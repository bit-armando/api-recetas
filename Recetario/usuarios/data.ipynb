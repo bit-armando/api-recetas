{
 "cells": [
  {
   "cell_type": "code",
   "execution_count": 1,
   "metadata": {},
   "outputs": [],
   "source": [
    "import pandas as pd\n",
    "import numpy as np"
   ]
  },
  {
   "cell_type": "code",
   "execution_count": 4,
   "metadata": {},
   "outputs": [],
   "source": [
    "df = pd.read_csv(\"users.csv\")"
   ]
  },
  {
   "cell_type": "code",
   "execution_count": 7,
   "metadata": {},
   "outputs": [
    {
     "name": "stdout",
     "output_type": "stream",
     "text": [
      "stewartjasmine\n",
      "bstanley\n",
      "perryanthony\n",
      "zunigajeffery\n",
      "fhicks\n",
      "adamcrawford\n",
      "jillianespinoza\n",
      "kimberlymiller\n",
      "christopherhanson\n",
      "victoriamaldonado\n",
      "bjohnson\n",
      "umyers\n",
      "sheilajones\n",
      "tyler99\n",
      "anthony78\n",
      "oanderson\n",
      "sheila32\n",
      "christophercunningham\n",
      "jdixon\n",
      "nicholas17\n",
      "douglas12\n",
      "stanleywarren\n",
      "tanner64\n",
      "qmorris\n",
      "smitheric\n",
      "richmondsteve\n",
      "austincarter\n",
      "angelicabaker\n",
      "joyce82\n",
      "rkemp\n",
      "matthewsnyder\n",
      "denise30\n",
      "blopez\n",
      "richardskathleen\n",
      "david37\n",
      "juliasingleton\n",
      "ryanbaker\n",
      "christinajohnson\n",
      "mistygreen\n",
      "joshuafrench\n",
      "michaeladams\n",
      "griffinglenn\n",
      "lawrenceguzman\n",
      "stephanie58\n",
      "jkey\n",
      "barrysandra\n",
      "julieray\n",
      "glyons\n",
      "brianstrickland\n",
      "elucas\n"
     ]
    }
   ],
   "source": [
    "for index, row in df.iterrows():\n",
    "    username = row[\"Username\"]\n",
    "    email = row[\"Email\"]\n",
    "    password = row[\"Password\"]\n",
    "\n",
    "    print(username)\n",
    "    "
   ]
  }
 ],
 "metadata": {
  "kernelspec": {
   "display_name": "Python 3",
   "language": "python",
   "name": "python3"
  },
  "language_info": {
   "codemirror_mode": {
    "name": "ipython",
    "version": 3
   },
   "file_extension": ".py",
   "mimetype": "text/x-python",
   "name": "python",
   "nbconvert_exporter": "python",
   "pygments_lexer": "ipython3",
   "version": "3.12.0"
  }
 },
 "nbformat": 4,
 "nbformat_minor": 2
}
