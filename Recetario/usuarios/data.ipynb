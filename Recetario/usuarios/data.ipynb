{
 "cells": [
  {
   "cell_type": "code",
   "execution_count": null,
   "metadata": {},
   "outputs": [],
   "source": [
    "import pandas as pd\n",
    "import numpy as np"
   ]
  },
  {
   "cell_type": "code",
   "execution_count": null,
   "metadata": {},
   "outputs": [],
   "source": [
    "\n",
    "    # Sample data\n",
    "    df = pd.read_csv(\"C:/Users/PC/Documents/Sistemas distribuidos/api-recetas/Recetario/usuarios/Blogs.csv\")\n",
    "\n",
    "    for index, row in df.iterrows():\n",
    "        title = row[\"title\"]\n",
    "        content = row[\"content\"]\n",
    "        user = row[\"user\"]\n",
    "        r = requests.get(row[\"img\"])\n",
    "\n",
    "        img_temp = NamedTemporaryFile()\n",
    "        img_temp.write(r.content)\n",
    "        img_temp.flush()\n",
    "\n",
    "        user = User.objects.get(id=user)\n",
    "        blog = Blog(title=title, content = content, author = user)\n",
    "        blog.photo.save(title + \".jpg\", File(img_temp), save=True)\n",
    "\n",
    "        blog.save()    "
   ]
  },
  {
   "cell_type": "code",
   "execution_count": 3,
   "metadata": {},
   "outputs": [],
   "source": [
    "df = pd.read_csv(\"users.csv\")"
   ]
  },
  {
   "cell_type": "code",
   "execution_count": null,
   "metadata": {},
   "outputs": [],
   "source": [
    "for index, row in df.iterrows():\n",
    "    username = row[\"Username\"]\n",
    "    email = row[\"Email\"]\n",
    "    password = row[\"Password\"]\n",
    "\n",
    "    print(username)\n",
    "    "
   ]
  },
  {
   "cell_type": "code",
   "execution_count": null,
   "metadata": {},
   "outputs": [],
   "source": [
    "df_blogs = pd.read_csv(\"Blogs.csv\")\n",
    "df_blogs"
   ]
  },
  {
   "cell_type": "code",
   "execution_count": null,
   "metadata": {},
   "outputs": [],
   "source": [
    "#codigo para subir blogs\n",
    "\n",
    "df_blogs = pd.read_csv(\"C:/Users/PC/Documents/Sistemas distribuidos/api-recetas/Recetario/usuarios/Blogs.csv\")\n",
    "\n",
    "for index, row in df_blogs.iterrows():\n",
    "    title = row[\"title\"]\n",
    "    content = row[\"content\"]\n",
    "    user = row[\"user\"]\n",
    "\n",
    "    user = User.objects.get(id=user)\n",
    "    blog = Blog(title=title, content = content, author = user)\n",
    "    blog.save()"
   ]
  },
  {
   "cell_type": "code",
   "execution_count": null,
   "metadata": {},
   "outputs": [],
   "source": [
    "#codigo para subir blogs\n",
    "\n",
    "df_blogs = pd.read_csv(\"C:/Users/PC/Documents/Sistemas distribuidos/api-recetas/Recetario/usuarios/Blogs.csv\")\n",
    "\n",
    "for index, row in df_blogs.iterrows():\n",
    "    title = row[\"title\"]\n",
    "    content = row[\"content\"]\n",
    "    user = row[\"user\"]\n",
    "\n",
    "    user = User.objects.get(id=user)\n",
    "    blog = Blog(title=title, content = content, author = user)\n",
    "    blog.save()"
   ]
  },
  {
   "cell_type": "code",
   "execution_count": 35,
   "metadata": {},
   "outputs": [],
   "source": [
    "from PIL import Image\n",
    "# Sample data\n",
    "data = {\n",
    "    \"title\": [\"Title 1\", ],\n",
    "    \"content\": [\"Content 1\",],\n",
    "    \"path\": [\"../media/Blog/a.jpg\",],\n",
    "    \"user\": [1]\n",
    "}\n",
    "\n",
    "df = pd.DataFrame(data)\n",
    "for index, row in df.iterrows():\n",
    "    title = row[\"title\"]\n",
    "    content = row[\"content\"]\n",
    "    user = row[\"user\"]\n",
    "    img = Image.open(row[\"path\"])\n",
    "    user = User.objects.get(id=user)\n",
    "    blog = Blog(title=title, content = content, author = user, photo = img)\n",
    "    blog.save()    "
   ]
  },
  {
   "cell_type": "code",
   "execution_count": null,
   "metadata": {},
   "outputs": [],
   "source": [
    "df_blogs = pd.read_csv(\"recetas.csv\")\n",
    "df_blogs"
   ]
  },
  {
   "cell_type": "code",
   "execution_count": 12,
   "metadata": {},
   "outputs": [
    {
     "data": {
      "text/plain": [
       "Index(['nombre', 'categoria', 'tiempo', 'dificultad', 'porciones',\n",
       "       'ingredientes', 'pasos', 'img', 'user'],\n",
       "      dtype='object')"
      ]
     },
     "execution_count": 12,
     "metadata": {},
     "output_type": "execute_result"
    }
   ],
   "source": [
    "df_blogs.columns"
   ]
  },
  {
   "cell_type": "code",
   "execution_count": null,
   "metadata": {},
   "outputs": [],
   "source": [
    "for index, row in df_blogs.iterrows():\n",
    "    a = row[\"nombre\"]\n",
    "    b = row[\"categoria\"]\n",
    "    c = row[\"tiempo\"]\n",
    "    d = row[\"dificultad\"]\n",
    "    e = row[\"porciones\"]\n",
    "    f = row[\"ingredientes\"]\n",
    "    g = row[\"pasos\"]\n",
    "    h = row[\"user\"]\n",
    "    i = row[\"img\"]\n",
    "\n",
    "    user = User.objects.get(id=user)\n",
    "    receta = Recetas(nombre=a, categoria = b, tiempo = c, \n",
    "                     dificultad=d, porciones = e, ingredientes = f,\n",
    "                     pasos = g, author = user, img = i)\n",
    "    receta.save()\n",
    "\n"
   ]
  },
  {
   "cell_type": "code",
   "execution_count": 27,
   "metadata": {},
   "outputs": [],
   "source": [
    "df_blogs['ingredientes'] = df_blogs['ingredientes'].apply(lambda x: ''.join(map(str, x)).replace('[', '').replace(']', '').replace(\"'\", ''))\n",
    "df_blogs['pasos'] = df_blogs['pasos'].apply(lambda x: ''.join(map(str, x)).replace('[', '').replace(']', '').replace(\"'\", ''))\n",
    "df_blogs['pasos'] = df_blogs['pasos'].str.replace(',', '\\n')"
   ]
  },
  {
   "cell_type": "code",
   "execution_count": null,
   "metadata": {},
   "outputs": [],
   "source": [
    "df_blogs"
   ]
  },
  {
   "cell_type": "code",
   "execution_count": null,
   "metadata": {},
   "outputs": [],
   "source": [
    "df_blogs"
   ]
  },
  {
   "cell_type": "code",
   "execution_count": null,
   "metadata": {},
   "outputs": [],
   "source": [
    "# Sample data\n",
    "data = {\n",
    "    \"title\": [\"Title 1\", ],\n",
    "    \"content\": [\"Content 1\",],\n",
    "    \"path\": [\"/media/Blog/a.jpg\",]\n",
    "}"
   ]
  },
  {
   "cell_type": "code",
   "execution_count": null,
   "metadata": {},
   "outputs": [],
   "source": [
    "from PIL import Image\n",
    "\n",
    "# Open an image file\n",
    "img = Image.open(\"example.jpg\")"
   ]
  },
  {
   "cell_type": "code",
   "execution_count": null,
   "metadata": {},
   "outputs": [],
   "source": [
    "    df_blogs = pd.read_csv(\"C:/Users/PC/Documents/Sistemas distribuidos/api-recetas/Recetario/usuarios/recetas.csv\")\n",
    "    df_blogs['ingredientes'] = df_blogs['ingredientes'].apply(lambda x: ''.join(map(str, x)).replace('[', '').replace(']', '').replace(\"'\", ''))\n",
    "    df_blogs['pasos'] = df_blogs['pasos'].apply(lambda x: ''.join(map(str, x)).replace('[', '').replace(']', '').replace(\"'\", ''))\n",
    "    for index, row in df_blogs.iterrows():\n",
    "        a = row[\"nombre\"]\n",
    "        b = row[\"categoria\"]\n",
    "        c = row[\"tiempo\"]\n",
    "        d = row[\"dificultad\"]\n",
    "        e = row[\"porciones\"]\n",
    "        f = row[\"ingredientes\"]\n",
    "        g = row[\"pasos\"]\n",
    "        h = row[\"user\"]\n",
    "        i = row[\"img\"]\n",
    "\n",
    "        user = User.objects.get(id=h)\n",
    "        receta = Recetas(nombre=a, categoria = b, tiempo = c, \n",
    "                        dificultad=d, porciones = e, ingredientes = f,\n",
    "                        pasos = g, author = user)\n",
    "        receta.save()\n"
   ]
  }
 ],
 "metadata": {
  "kernelspec": {
   "display_name": "Python 3",
   "language": "python",
   "name": "python3"
  },
  "language_info": {
   "codemirror_mode": {
    "name": "ipython",
    "version": 3
   },
   "file_extension": ".py",
   "mimetype": "text/x-python",
   "name": "python",
   "nbconvert_exporter": "python",
   "pygments_lexer": "ipython3",
   "version": "3.12.0"
  }
 },
 "nbformat": 4,
 "nbformat_minor": 2
}
