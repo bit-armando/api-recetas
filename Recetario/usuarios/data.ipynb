{
 "cells": [
  {
   "cell_type": "code",
   "execution_count": null,
   "metadata": {},
   "outputs": [],
   "source": [
    "import pandas as pd\n",
    "import numpy as np"
   ]
  },
  {
   "cell_type": "code",
   "execution_count": null,
   "metadata": {},
   "outputs": [],
   "source": [
    "df = pd.read_csv(\"C:/Users/PC/Documents/Sistemas distribuidos/api-recetas/Recetario/usuarios/Blogs.csv\")\n",
    "\n",
    "for index, row in df.iterrows():\n",
    "    title = row[\"title\"]\n",
    "    content = row[\"content\"]\n",
    "    user = row[\"user\"]\n",
    "    r = requests.get(row[\"img\"])\n",
    "\n",
    "    img_temp = NamedTemporaryFile()\n",
    "    img_temp.write(r.content)\n",
    "    img_temp.flush()\n",
    "\n",
    "    user = User.objects.get(id=user)\n",
    "    blog = Blog(title=title, content = content, author = user)\n",
    "    blog.photo.save(title + \".jpg\", File(img_temp), save=True)\n",
    "\n",
    "    blog.save()    "
   ]
  },
  {
   "cell_type": "code",
   "execution_count": null,
   "metadata": {},
   "outputs": [],
   "source": [
    "    df = pd.read_csv(\"C:/Users/PC/Documents/Sistemas distribuidos/api-recetas/Recetario/usuarios/recetas.csv\")\n",
    "\n",
    "    df['ingredientes'] = df['ingredientes'].apply(lambda x: ''.join(map(str, x)).replace('[', '').replace(']', '').replace(\"'\", ''))\n",
    "    df['pasos'] = df['pasos'].apply(lambda x: ''.join(map(str, x)).replace('[', '').replace(']', '').replace(\"'\", ''))\n",
    "    for index, row in df.iterrows():\n",
    "        a = row[\"nombre\"]\n",
    "        b = row[\"categoria\"]\n",
    "        c = row[\"tiempo\"]\n",
    "        d = row[\"dificultad\"]\n",
    "        e = row[\"porciones\"]\n",
    "        f = row[\"ingredientes\"]\n",
    "        g = row[\"pasos\"]\n",
    "        h = row[\"user\"]\n",
    "        i = row[\"img\"]\n",
    "\n",
    "        r = requests.get(row[\"img\"])\n",
    "\n",
    "        img_temp = NamedTemporaryFile()\n",
    "        img_temp.write(r.content)\n",
    "        img_temp.flush()\n",
    "\n",
    "        user = User.objects.get(id=h)\n",
    "        receta = Recetas(nombre=a, categoria = b, tiempo = c, \n",
    "                        dificultad=d, porciones = e, ingredientes = f,\n",
    "                        pasos = g, author = user)\n",
    "        receta.photo.save(a + \".jpg\", File(img_temp), save=True)\n",
    "\n",
    "        receta.save()\n"
   ]
  }
 ],
 "metadata": {
  "kernelspec": {
   "display_name": "Python 3",
   "language": "python",
   "name": "python3"
  },
  "language_info": {
   "codemirror_mode": {
    "name": "ipython",
    "version": 3
   },
   "file_extension": ".py",
   "mimetype": "text/x-python",
   "name": "python",
   "nbconvert_exporter": "python",
   "pygments_lexer": "ipython3",
   "version": "3.12.0"
  }
 },
 "nbformat": 4,
 "nbformat_minor": 2
}
